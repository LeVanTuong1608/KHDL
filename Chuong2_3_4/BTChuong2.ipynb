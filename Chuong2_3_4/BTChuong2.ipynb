{
 "cells": [
  {
   "cell_type": "markdown",
   "id": "cf90e30b",
   "metadata": {},
   "source": [
    "# Bài tập nhóm Chương 2"
   ]
  },
  {
   "cell_type": "markdown",
   "id": "6fd7300f",
   "metadata": {},
   "source": [
    "# ------------------------\n",
    "# 1. Đọc dữ liệu \n",
    "# ------------------------"
   ]
  },
  {
   "cell_type": "code",
   "execution_count": 15,
   "id": "92f9e4b4",
   "metadata": {},
   "outputs": [],
   "source": [
    "import pandas as pd\n",
    "import numpy as np\n",
    "import os\n",
    "import re\n",
    "from sklearn.preprocessing import StandardScaler, MinMaxScaler\n"
   ]
  },
  {
   "cell_type": "code",
   "execution_count": 16,
   "id": "3fb3566a",
   "metadata": {},
   "outputs": [
    {
     "name": "stdout",
     "output_type": "stream",
     "text": [
      "✓ Đã đọc file bds_crawl.csv thành công.\n",
      "✓ Đã kiểm tra đầy đủ các cột bắt buộc.\n"
     ]
    }
   ],
   "source": [
    "\n",
    "\n",
    "# 1: Đọc dữ liệu từ file CSV\n",
    "csv_path = \"bds_crawl.csv\"\n",
    "if not os.path.exists(csv_path):\n",
    "    raise FileNotFoundError(f\"ERROR: File {csv_path} không tồn tại!\")\n",
    "\n",
    "df = pd.read_csv(csv_path)\n",
    "print(f\"✓ Đã đọc file {csv_path} thành công.\")\n",
    "\n",
    "# Kiểm tra các cột bắt buộc\n",
    "required_columns = ['Khoảng giá', 'Diện tích', 'Số phòng ngủ', 'Số phòng tắm/vệ sinh', 'Nội thất', 'Pháp lý']\n",
    "missing_cols = [col for col in required_columns if col not in df.columns]\n",
    "if missing_cols:\n",
    "    raise ValueError(f\"ERROR: Thiếu các cột bắt buộc: {', '.join(missing_cols)}\")\n",
    "\n",
    "print(\"✓ Đã kiểm tra đầy đủ các cột bắt buộc.\")"
   ]
  },
  {
   "cell_type": "code",
   "execution_count": 17,
   "id": "e6551b96",
   "metadata": {},
   "outputs": [
    {
     "name": "stdout",
     "output_type": "stream",
     "text": [
      "Thông tin cơ bản về dữ liệu:\n",
      "Kích thước dữ liệu: (2016, 9)\n",
      "Số lượng: 2016\n",
      "\n",
      "Các cột trong dữ liệu:\n",
      "['Link', 'Ngày đăng', 'Loại hình căn hộ', 'Khoảng giá', 'Diện tích', 'Số phòng ngủ', 'Số phòng tắm/vệ sinh', 'Pháp lý', 'Nội thất']\n",
      "\n",
      "5 dòng đầu tiên của dữ liệu:\n"
     ]
    },
    {
     "data": {
      "text/html": [
       "<div>\n",
       "<style scoped>\n",
       "    .dataframe tbody tr th:only-of-type {\n",
       "        vertical-align: middle;\n",
       "    }\n",
       "\n",
       "    .dataframe tbody tr th {\n",
       "        vertical-align: top;\n",
       "    }\n",
       "\n",
       "    .dataframe thead th {\n",
       "        text-align: right;\n",
       "    }\n",
       "</style>\n",
       "<table border=\"1\" class=\"dataframe\">\n",
       "  <thead>\n",
       "    <tr style=\"text-align: right;\">\n",
       "      <th></th>\n",
       "      <th>Link</th>\n",
       "      <th>Ngày đăng</th>\n",
       "      <th>Loại hình căn hộ</th>\n",
       "      <th>Khoảng giá</th>\n",
       "      <th>Diện tích</th>\n",
       "      <th>Số phòng ngủ</th>\n",
       "      <th>Số phòng tắm/vệ sinh</th>\n",
       "      <th>Pháp lý</th>\n",
       "      <th>Nội thất</th>\n",
       "    </tr>\n",
       "  </thead>\n",
       "  <tbody>\n",
       "    <tr>\n",
       "      <th>0</th>\n",
       "      <td>https://batdongsan.com.vn/ban-can-ho-chung-cu-...</td>\n",
       "      <td>08/10/2025</td>\n",
       "      <td>Căn hộ chung cư tại Vinhomes Ocean Park Gia Lâm</td>\n",
       "      <td>3,9 tỷ</td>\n",
       "      <td>58 m²</td>\n",
       "      <td>1 phòng</td>\n",
       "      <td>1 phòng</td>\n",
       "      <td>Hợp đồng mua bán</td>\n",
       "      <td>Cơ bản</td>\n",
       "    </tr>\n",
       "    <tr>\n",
       "      <th>1</th>\n",
       "      <td>https://batdongsan.com.vn/ban-can-ho-chung-cu-...</td>\n",
       "      <td>04/10/2025</td>\n",
       "      <td>Căn hộ chung cư tại Vinhomes Ocean Park Gia Lâm</td>\n",
       "      <td>3,1 tỷ</td>\n",
       "      <td>48 m²</td>\n",
       "      <td>1 phòng</td>\n",
       "      <td>1 phòng</td>\n",
       "      <td>Sổ đỏ/ Sổ hồng</td>\n",
       "      <td>Đầy đủ</td>\n",
       "    </tr>\n",
       "    <tr>\n",
       "      <th>2</th>\n",
       "      <td>https://batdongsan.com.vn/ban-can-ho-chung-cu-...</td>\n",
       "      <td>08/10/2025</td>\n",
       "      <td>Căn hộ chung cư tại Legacy Hinoiri</td>\n",
       "      <td>5,7 tỷ</td>\n",
       "      <td>110 m²</td>\n",
       "      <td>3 phòng</td>\n",
       "      <td>3 phòng</td>\n",
       "      <td>Sổ đỏ/ Sổ hồng</td>\n",
       "      <td>Đầy đủ</td>\n",
       "    </tr>\n",
       "    <tr>\n",
       "      <th>3</th>\n",
       "      <td>https://batdongsan.com.vn/ban-can-ho-chung-cu-...</td>\n",
       "      <td>03/10/2025</td>\n",
       "      <td>Căn hộ chung cư tại Chung cư The Wisteria</td>\n",
       "      <td>5,6 tỷ</td>\n",
       "      <td>73 m²</td>\n",
       "      <td>2 phòng</td>\n",
       "      <td>2 phòng</td>\n",
       "      <td>Hợp đồng mua bán</td>\n",
       "      <td>Nội thất bàn giao hiện đại</td>\n",
       "    </tr>\n",
       "    <tr>\n",
       "      <th>4</th>\n",
       "      <td>https://batdongsan.com.vn/ban-can-ho-chung-cu-...</td>\n",
       "      <td>09/10/2025</td>\n",
       "      <td>Căn hộ chung cư tại Chung cư The Wisteria</td>\n",
       "      <td>6,7 tỷ</td>\n",
       "      <td>83 m²</td>\n",
       "      <td>2 phòng</td>\n",
       "      <td>2 phòng</td>\n",
       "      <td>Hợp đồng mua bán</td>\n",
       "      <td>Cơ bản</td>\n",
       "    </tr>\n",
       "  </tbody>\n",
       "</table>\n",
       "</div>"
      ],
      "text/plain": [
       "                                                Link   Ngày đăng  \\\n",
       "0  https://batdongsan.com.vn/ban-can-ho-chung-cu-...  08/10/2025   \n",
       "1  https://batdongsan.com.vn/ban-can-ho-chung-cu-...  04/10/2025   \n",
       "2  https://batdongsan.com.vn/ban-can-ho-chung-cu-...  08/10/2025   \n",
       "3  https://batdongsan.com.vn/ban-can-ho-chung-cu-...  03/10/2025   \n",
       "4  https://batdongsan.com.vn/ban-can-ho-chung-cu-...  09/10/2025   \n",
       "\n",
       "                                  Loại hình căn hộ Khoảng giá Diện tích  \\\n",
       "0  Căn hộ chung cư tại Vinhomes Ocean Park Gia Lâm     3,9 tỷ     58 m²   \n",
       "1  Căn hộ chung cư tại Vinhomes Ocean Park Gia Lâm     3,1 tỷ     48 m²   \n",
       "2               Căn hộ chung cư tại Legacy Hinoiri     5,7 tỷ    110 m²   \n",
       "3        Căn hộ chung cư tại Chung cư The Wisteria     5,6 tỷ     73 m²   \n",
       "4        Căn hộ chung cư tại Chung cư The Wisteria     6,7 tỷ     83 m²   \n",
       "\n",
       "  Số phòng ngủ Số phòng tắm/vệ sinh           Pháp lý  \\\n",
       "0      1 phòng              1 phòng  Hợp đồng mua bán   \n",
       "1      1 phòng              1 phòng    Sổ đỏ/ Sổ hồng   \n",
       "2      3 phòng              3 phòng    Sổ đỏ/ Sổ hồng   \n",
       "3      2 phòng              2 phòng  Hợp đồng mua bán   \n",
       "4      2 phòng              2 phòng  Hợp đồng mua bán   \n",
       "\n",
       "                     Nội thất  \n",
       "0                      Cơ bản  \n",
       "1                      Đầy đủ  \n",
       "2                      Đầy đủ  \n",
       "3  Nội thất bàn giao hiện đại  \n",
       "4                      Cơ bản  "
      ]
     },
     "metadata": {},
     "output_type": "display_data"
    }
   ],
   "source": [
    "print(\"Thông tin cơ bản về dữ liệu:\")\n",
    "print(f\"Kích thước dữ liệu: {df.shape}\")\n",
    "print(f\"Số lượng: {len(df)}\")\n",
    "print(\"\\nCác cột trong dữ liệu:\")\n",
    "print(df.columns.tolist())\n",
    "\n",
    "# Hiển thị 5 dòng đầu tiên của dữ liệu\n",
    "print(\"\\n5 dòng đầu tiên của dữ liệu:\")\n",
    "display(df.head())\n"
   ]
  },
  {
   "cell_type": "markdown",
   "id": "80664678",
   "metadata": {},
   "source": [
    "# ----------------------------------------------------------------------\n",
    "# 2. LÀM SẠCH ĐỊNH DẠNG DỮ LIỆU THÔ (FEATURE ENGINEERING CƠ BẢN)\n",
    "# ----------------------------------------------------------------------\n"
   ]
  },
  {
   "cell_type": "code",
   "execution_count": 18,
   "id": "8398fa04",
   "metadata": {},
   "outputs": [],
   "source": [
    "\n",
    "# 2.1. Làm sạch cột Khoảng giá\n",
    "# Sử dụng đơn vị VNĐ làm đơn vị gốc để tránh nhầm lẫn\n",
    "\n",
    "\n",
    "def _normalize_number_string(num_s: str) -> str:\n",
    "    \"\"\"Chuẩn hoá chuỗi số: xử lý dấu phân cách hàng nghìn và dấu thập phân.\n",
    "    Quy tắc đơn giản:\n",
    "      - Nếu chứa cả '.' và ',' giả định '.' là hàng nghìn, ',' là thập phân -> remove '.' and replace ','->'.'\n",
    "      - Nếu chỉ chứa ',' -> treat ',' as decimal -> replace ','->'.'\n",
    "      - Nếu chỉ chứa '.' -> keep '.' (treat as decimal)  \n",
    "    \"\"\"\n",
    "    if '.' in num_s and ',' in num_s:\n",
    "        return num_s.replace('.', '').replace(',', '.')\n",
    "    if ',' in num_s:\n",
    "        return num_s.replace(',', '.')\n",
    "    return num_s\n",
    "\n",
    "\n",
    "def clean_price_to_vnd(price):\n",
    "    s = str(price)\n",
    "    if pd.isna(price) or 'thỏa thuận' in s.lower():\n",
    "        return np.nan\n",
    "\n",
    "    s_low = s.lower().strip()\n",
    "    # tìm chuỗi số đầu tiên (có thể chứa '.' và ',')\n",
    "    m = re.search(r\"[\\d.,]+\", s_low)\n",
    "    if not m:\n",
    "        return np.nan\n",
    "    num_s = m.group(0)\n",
    "    num_s = _normalize_number_string(num_s)\n",
    "\n",
    "    try:\n",
    "        value = float(num_s)\n",
    "    except ValueError:\n",
    "        return np.nan\n",
    "\n",
    "    # Quy đổi theo đơn vị xuất hiện trong chuỗi gốc\n",
    "    if 'tỷ' in s_low:\n",
    "        return value * 10**9\n",
    "    if 'triệu/m²' in s_low:\n",
    "        # Bỏ qua các giá trên m2 (xử lý sau nếu cần)\n",
    "        return np.nan\n",
    "    if 'triệu' in s_low:\n",
    "        return value * 10**6\n",
    "    if 'vnđ' in s_low or 'vnd' in s_low:\n",
    "        return value\n",
    "\n",
    "    # Trường hợp không ghi đơn vị rõ ràng: duy trì hành vi cũ nhưng thêm ngưỡng an toàn\n",
    "    # Nếu giá nhỏ (<1000) giả định là số theo đơn vị tỷ (ví dụ: '40' -> 40 tỷ),\n",
    "    # nếu số lớn (>=1000) có thể đã là VNĐ thô (ví dụ 3900000000) -> trả về như VNĐ\n",
    "    if value < 1000:\n",
    "        return value * 10**9\n",
    "    return value\n",
    "\n",
    "# Áp dụng hàm mới, tạo cột giá trị tuyệt đối (VNĐ)\n",
    "df['Gia_VND'] = df['Khoảng giá'].apply(clean_price_to_vnd)\n"
   ]
  },
  {
   "cell_type": "code",
   "execution_count": 19,
   "id": "c6dc3d2e",
   "metadata": {},
   "outputs": [],
   "source": [
    "# 2.2. Làm sạch cột Diện tích\n",
    "def clean_area_improved(area):\n",
    "    if pd.isna(area):\n",
    "        return np.nan\n",
    "\n",
    "    s = str(area).lower().strip()\n",
    "    # loại bỏ ký tự không phải số, '.', ','\n",
    "    m = re.search(r\"[\\d.,]+\", s)\n",
    "    if not m:\n",
    "        return np.nan\n",
    "    num_s = m.group(0)\n",
    "\n",
    "    # cùng chuẩn hoá số như trên\n",
    "    if '.' in num_s and ',' in num_s:\n",
    "        num_s = num_s.replace('.', '').replace(',', '.')\n",
    "    elif ',' in num_s:\n",
    "        num_s = num_s.replace(',', '.')\n",
    "\n",
    "    try:\n",
    "        return float(num_s)\n",
    "    except ValueError:\n",
    "        return np.nan\n",
    "\n",
    "# Lưu cột diện tích đã làm sạch\n",
    "df['Diện tích (m²) đã làm sạch'] = df['Diện tích'].apply(clean_area_improved)\n"
   ]
  },
  {
   "cell_type": "code",
   "execution_count": 20,
   "id": "d54de503",
   "metadata": {},
   "outputs": [],
   "source": [
    "\n",
    "# 2.3. Làm sạch Số phòng ngủ và Số phòng tắm/vệ sinh\n",
    "def clean_room(room):\n",
    "    if pd.isna(room):\n",
    "        return np.nan\n",
    "    room_str = str(room).lower().replace(' phòng', '').strip()\n",
    "    try:\n",
    "        return int(room_str)\n",
    "    except ValueError:\n",
    "        return np.nan\n",
    "\n",
    "# Điền giá trị thiếu (NaN) bằng 0 cho các cột phòng\n",
    "df['Số phòng ngủ'] = df['Số phòng ngủ'].apply(clean_room).fillna(0).astype(int)\n",
    "df['Số phòng tắm/vệ sinh'] = df['Số phòng tắm/vệ sinh'].apply(clean_room).fillna(0).astype(int)\n",
    "df = df.drop(columns = ['Khoảng giá', 'Diện tích'])\n",
    "\n"
   ]
  },
  {
   "cell_type": "markdown",
   "id": "3578ce7b",
   "metadata": {},
   "source": [
    "# -----------------------------------------------\n",
    "# 3. XỬ LÝ GIÁ TRỊ THIẾU\n",
    "# -----------------------------------------------"
   ]
  },
  {
   "cell_type": "code",
   "execution_count": 21,
   "id": "712b04d7",
   "metadata": {},
   "outputs": [
    {
     "name": "stdout",
     "output_type": "stream",
     "text": [
      "✅ Đã điền 521 giá trị thiếu trong cột 'Gia_VND' bằng Trung vị (11,500,000,000 VNĐ).\n",
      "✅ Đã điền 930 giá trị thiếu trong cột 'Nội thất' bằng 'Chưa rõ'.\n",
      "\n",
      "Tổng quan dữ liệu trước khi xử lý ngoại lai:\n",
      "            Gia_VND  Diện tích (m²) đã làm sạch\n",
      "count  2.016000e+03                 2015.000000\n",
      "mean   2.049204e+10                  105.183859\n",
      "std    4.455665e+10                   85.096757\n",
      "min    2.000000e+07                    1.000000\n",
      "25%    8.000000e+09                   57.000000\n",
      "50%    1.150000e+10                   82.500000\n",
      "75%    1.850000e+10                  120.000000\n",
      "max    9.990000e+11                  999.700000\n"
     ]
    }
   ],
   "source": [
    "\n",
    "# 3.1. Điền giá trị thiếu cho Gia_VND bằng Trung vị (Median)\n",
    "nan_count_gia = df['Gia_VND'].isna().sum()\n",
    "median_gia = df['Gia_VND'].median()\n",
    "df['Gia_VND'] = df['Gia_VND'].fillna(median_gia)\n",
    "print(f\"✅ Đã điền {nan_count_gia} giá trị thiếu trong cột 'Gia_VND' bằng Trung vị ({median_gia:,.0f} VNĐ).\")\n",
    "\n",
    "# 3.2. Điền giá trị thiếu cho Nội thất bằng 'Chưa rõ'\n",
    "nan_count_nt = df['Nội thất'].isna().sum()\n",
    "df['Nội thất'] = df['Nội thất'].fillna('Chưa rõ')\n",
    "print(f\"✅ Đã điền {nan_count_nt} giá trị thiếu trong cột 'Nội thất' bằng 'Chưa rõ'.\")\n",
    "\n",
    "print(\"\\nTổng quan dữ liệu trước khi xử lý ngoại lai:\")\n",
    "print(df[['Gia_VND', 'Diện tích (m²) đã làm sạch']].describe())"
   ]
  },
  {
   "cell_type": "markdown",
   "id": "19247a28",
   "metadata": {},
   "source": [
    "# ----------------------------------------------------------------------\n",
    "# 3.3. NHÓM GIÁ TRỊ PHÂN LOẠI KHÔNG NHẤT QUÁN\n",
    "# ----------------------------------------------------------------------\n"
   ]
  },
  {
   "cell_type": "code",
   "execution_count": 22,
   "id": "ecbbc108",
   "metadata": {},
   "outputs": [
    {
     "name": "stdout",
     "output_type": "stream",
     "text": [
      "✅ Đã nhóm các giá trị Nội thất và Pháp lý. Số lượng giá trị độc nhất đã giảm.\n"
     ]
    }
   ],
   "source": [
    "\n",
    "# 3.3.1. Nhóm cột Nội thất\n",
    "def group_noi_that(text):\n",
    "    text = str(text).lower()\n",
    "    if 'full' in text or 'đầy đủ' in text or 'cao cấp' in text:\n",
    "        return 'Day du/Cao cap'\n",
    "    if 'cơ bản' in text or 'liền tường' in text:\n",
    "        return 'Co ban'\n",
    "    if 'thô' in text or 'hoàn thiện mặt ngoài' in text:\n",
    "        return 'Ban giao tho'\n",
    "    return 'Chua ro'\n",
    "\n",
    "df['Nội thất'] = df['Nội thất'].apply(group_noi_that)\n",
    "\n",
    "# 3.3.2. Nhóm cột Pháp lý\n",
    "def group_phap_ly(text):\n",
    "    text = str(text).lower()\n",
    "    if 'sổ đỏ' in text or 'sổ hồng' in text:\n",
    "        return 'So do/So hong'\n",
    "    if 'hợp đồng mua bán' in text:\n",
    "        return 'HDMB'\n",
    "    return 'Khac/Chua co'\n",
    "\n",
    "df['Pháp lý'] = df['Pháp lý'].apply(group_phap_ly)\n",
    "\n",
    "print(\"✅ Đã nhóm các giá trị Nội thất và Pháp lý. Số lượng giá trị độc nhất đã giảm.\")"
   ]
  },
  {
   "cell_type": "markdown",
   "id": "c1c8e3d8",
   "metadata": {},
   "source": [
    "# ----------------------------------------------------------------------\n",
    "# 4. Xử lý Ngoại lai (OUTLIERS) (ĐÃ THÊM LỚP BẢO VỆ CHỐNG NaN)\n",
    "# ----------------------------------------------------------------------"
   ]
  },
  {
   "cell_type": "code",
   "execution_count": 23,
   "id": "674bd4df",
   "metadata": {},
   "outputs": [
    {
     "name": "stdout",
     "output_type": "stream",
     "text": [
      "\n",
      "--- 4: Xử lý Giá trị Ngoại lai (Outliers) bằng IQR Capping ---\n",
      "✅ Đã xử lý 242 ngoại lai trong cột 'Gia_VND'.\n",
      "✅ Đã xử lý 155 ngoại lai trong cột 'Diện tích (m²) đã làm sạch'.\n",
      "✅ Đã xử lý 51 ngoại lai trong cột 'Số phòng ngủ'.\n",
      "✅ Đã xử lý 93 ngoại lai trong cột 'Số phòng tắm/vệ sinh'.\n"
     ]
    }
   ],
   "source": [
    "\n",
    "\n",
    "outlier_cols = ['Gia_VND', 'Diện tích (m²) đã làm sạch', 'Số phòng ngủ', 'Số phòng tắm/vệ sinh']\n",
    "\n",
    "print(\"\\n--- 4: Xử lý Giá trị Ngoại lai (Outliers) bằng IQR Capping ---\")\n",
    "for col in outlier_cols:\n",
    "    # Bổ sung: Đảm bảo cột không còn NaN bằng cách điền median của chính cột đó\n",
    "    # Điều này chống lại lỗi workflow và đảm bảo np.where() hoạt động an toàn\n",
    "    if df[col].isnull().any():\n",
    "        df[col] = df[col].fillna(df[col].median())\n",
    "    Q1 = df[col].quantile(0.25)\n",
    "    Q3 = df[col].quantile(0.75)\n",
    "    IQR = Q3 - Q1\n",
    "    lower_bound = Q1 - 1.5 * IQR\n",
    "    upper_bound = Q3 + 1.5 * IQR\n",
    "    \n",
    "    outliers_count = df[(df[col] < lower_bound) | (df[col] > upper_bound)].shape[0]\n",
    "    \n",
    "    # Xử lý ngoại lai bằng cách thay thế (Winsorizing)\n",
    "    df[col] = np.where(df[col] < lower_bound, lower_bound, df[col])\n",
    "    df[col] = np.where(df[col] > upper_bound, upper_bound, df[col])\n",
    "    \n",
    "    if outliers_count > 0:\n",
    "        print(f\"✅ Đã xử lý {outliers_count} ngoại lai trong cột '{col}'.\")\n",
    "    else:\n",
    "         print(f\"➖ Cột '{col}' không có ngoại lai để xử lý.\")"
   ]
  },
  {
   "cell_type": "code",
   "execution_count": 24,
   "id": "339e63b0",
   "metadata": {},
   "outputs": [
    {
     "name": "stdout",
     "output_type": "stream",
     "text": [
      "✅ Đã lưu file 'bds_clean_grouped.csv' thành công.\n"
     ]
    }
   ],
   "source": [
    "df.to_csv('bds_clean_grouped.csv', index=False, encoding='utf-8-sig')\n",
    "\n",
    "print(\"✅ Đã lưu file 'bds_clean_grouped.csv' thành công.\")"
   ]
  },
  {
   "cell_type": "markdown",
   "id": "70585e83",
   "metadata": {},
   "source": [
    "# -------------------------------------------\n",
    "# 5. Co giãn Min-Max (Normalization)\n",
    "# -------------------------------------------"
   ]
  },
  {
   "cell_type": "code",
   "execution_count": 25,
   "id": "992d5de2",
   "metadata": {},
   "outputs": [
    {
     "name": "stdout",
     "output_type": "stream",
     "text": [
      "\n",
      "--- 5: Co giãn Min-Max đã hoàn tất ---\n",
      "Tóm tắt thống kê trước và sau khi scale:\n",
      "\n",
      "TRƯỚC KHI SCALE:\n",
      "            Gia_VND  Diện tích (m²) đã làm sạch  Số phòng ngủ  \\\n",
      "count  2.016000e+03                 2016.000000   2016.000000   \n",
      "mean   1.446219e+10                   96.550187      2.319444   \n",
      "std    9.622235e+09                   53.412485      2.506397   \n",
      "min    2.000000e+07                    1.000000      0.000000   \n",
      "25%    8.000000e+09                   57.000000      0.000000   \n",
      "50%    1.150000e+10                   82.500000      2.000000   \n",
      "75%    1.850000e+10                  120.000000      4.000000   \n",
      "max    3.425000e+10                  214.500000     10.000000   \n",
      "\n",
      "       Số phòng tắm/vệ sinh  \n",
      "count           2016.000000  \n",
      "mean               1.905010  \n",
      "std                2.179769  \n",
      "min                0.000000  \n",
      "25%                0.000000  \n",
      "50%                2.000000  \n",
      "75%                3.000000  \n",
      "max                7.500000  \n"
     ]
    }
   ],
   "source": [
    "\n",
    "cols_to_scale = ['Gia_VND', 'Diện tích (m²) đã làm sạch', 'Số phòng ngủ', 'Số phòng tắm/vệ sinh']\n",
    "\n",
    "# Kiểm tra sự tồn tại của các cột\n",
    "available_cols = [col for col in cols_to_scale if col in df.columns]\n",
    "missing_cols = [col for col in cols_to_scale if col not in df.columns]\n",
    "if missing_cols:\n",
    "    print(f\"⚠️ Cảnh báo: Không tìm thấy các cột: {', '.join(missing_cols)}\")\n",
    "if not available_cols:\n",
    "    raise ValueError(\"Không có cột nào để scale!\")\n",
    "\n",
    "# Co giãn Min-Max (Normalization)\n",
    "scaler_minmax = MinMaxScaler()\n",
    "df_normalized = df.copy() \n",
    "df_normalized[available_cols] = scaler_minmax.fit_transform(df_normalized[available_cols])\n",
    "\n",
    "print(\"\\n--- 5: Co giãn Min-Max đã hoàn tất ---\")\n",
    "print(\"Tóm tắt thống kê trước và sau khi scale:\")\n",
    "print(\"\\nTRƯỚC KHI SCALE:\")\n",
    "print(df[available_cols].describe())\n"
   ]
  },
  {
   "cell_type": "code",
   "execution_count": 26,
   "id": "c525b444",
   "metadata": {},
   "outputs": [
    {
     "name": "stdout",
     "output_type": "stream",
     "text": [
      "\n",
      "SAU KHI SCALE (Phạm vi [0, 1]):\n",
      "           Gia_VND  Diện tích (m²) đã làm sạch  Số phòng ngủ  \\\n",
      "count  2016.000000                 2016.000000   2016.000000   \n",
      "mean      0.421916                    0.447542      0.231944   \n",
      "std       0.281105                    0.250176      0.250640   \n",
      "min       0.000000                    0.000000      0.000000   \n",
      "25%       0.233129                    0.262295      0.000000   \n",
      "50%       0.335378                    0.381733      0.200000   \n",
      "75%       0.539877                    0.557377      0.400000   \n",
      "max       1.000000                    1.000000      1.000000   \n",
      "\n",
      "       Số phòng tắm/vệ sinh  \n",
      "count           2016.000000  \n",
      "mean               0.254001  \n",
      "std                0.290636  \n",
      "min                0.000000  \n",
      "25%                0.000000  \n",
      "50%                0.266667  \n",
      "75%                0.400000  \n",
      "max                1.000000  \n"
     ]
    }
   ],
   "source": [
    "print(\"\\nSAU KHI SCALE (Phạm vi [0, 1]):\")\n",
    "print(df_normalized[available_cols].describe())"
   ]
  },
  {
   "cell_type": "markdown",
   "id": "ba1d3616",
   "metadata": {},
   "source": [
    "#  ------------------------------------------------\n",
    "# 6. Mã hóa các biến phân loại\n",
    "# -------------------------------------------------"
   ]
  },
  {
   "cell_type": "code",
   "execution_count": 27,
   "id": "97c8d960",
   "metadata": {},
   "outputs": [
    {
     "name": "stdout",
     "output_type": "stream",
     "text": [
      "--- 6: Bảng Tóm tắt Cột đã Mã hóa (One-Hot Encoding) ---\n"
     ]
    },
    {
     "data": {
      "text/html": [
       "<div>\n",
       "<style scoped>\n",
       "    .dataframe tbody tr th:only-of-type {\n",
       "        vertical-align: middle;\n",
       "    }\n",
       "\n",
       "    .dataframe tbody tr th {\n",
       "        vertical-align: top;\n",
       "    }\n",
       "\n",
       "    .dataframe thead th {\n",
       "        text-align: right;\n",
       "    }\n",
       "</style>\n",
       "<table border=\"1\" class=\"dataframe\">\n",
       "  <thead>\n",
       "    <tr style=\"text-align: right;\">\n",
       "      <th></th>\n",
       "      <th>Noi_that_Chua ro</th>\n",
       "      <th>Noi_that_Co ban</th>\n",
       "      <th>Noi_that_Day du/Cao cap</th>\n",
       "      <th>Phap_ly_Khac/Chua co</th>\n",
       "      <th>Phap_ly_So do/So hong</th>\n",
       "    </tr>\n",
       "  </thead>\n",
       "  <tbody>\n",
       "    <tr>\n",
       "      <th>0</th>\n",
       "      <td>False</td>\n",
       "      <td>True</td>\n",
       "      <td>False</td>\n",
       "      <td>False</td>\n",
       "      <td>False</td>\n",
       "    </tr>\n",
       "    <tr>\n",
       "      <th>1</th>\n",
       "      <td>False</td>\n",
       "      <td>False</td>\n",
       "      <td>True</td>\n",
       "      <td>False</td>\n",
       "      <td>True</td>\n",
       "    </tr>\n",
       "    <tr>\n",
       "      <th>2</th>\n",
       "      <td>False</td>\n",
       "      <td>False</td>\n",
       "      <td>True</td>\n",
       "      <td>False</td>\n",
       "      <td>True</td>\n",
       "    </tr>\n",
       "    <tr>\n",
       "      <th>3</th>\n",
       "      <td>True</td>\n",
       "      <td>False</td>\n",
       "      <td>False</td>\n",
       "      <td>False</td>\n",
       "      <td>False</td>\n",
       "    </tr>\n",
       "    <tr>\n",
       "      <th>4</th>\n",
       "      <td>False</td>\n",
       "      <td>True</td>\n",
       "      <td>False</td>\n",
       "      <td>False</td>\n",
       "      <td>False</td>\n",
       "    </tr>\n",
       "  </tbody>\n",
       "</table>\n",
       "</div>"
      ],
      "text/plain": [
       "   Noi_that_Chua ro  Noi_that_Co ban  Noi_that_Day du/Cao cap  \\\n",
       "0             False             True                    False   \n",
       "1             False            False                     True   \n",
       "2             False            False                     True   \n",
       "3              True            False                    False   \n",
       "4             False             True                    False   \n",
       "\n",
       "   Phap_ly_Khac/Chua co  Phap_ly_So do/So hong  \n",
       "0                 False                  False  \n",
       "1                 False                   True  \n",
       "2                 False                   True  \n",
       "3                 False                  False  \n",
       "4                 False                  False  "
      ]
     },
     "metadata": {},
     "output_type": "display_data"
    },
    {
     "name": "stdout",
     "output_type": "stream",
     "text": [
      "Tổng số cột sau khi mã hóa đã giảm xuống còn: 12 cột.\n"
     ]
    }
   ],
   "source": [
    "\n",
    "cols_to_encode = ['Nội thất', 'Pháp lý']\n",
    "\n",
    "# pd.get_dummies thực hiện One-Hot Encoding\n",
    "df_final = pd.get_dummies(df_normalized, columns=cols_to_encode, prefix=['Noi_that', 'Phap_ly'], drop_first=True)\n",
    "\n",
    "print(\"--- 6: Bảng Tóm tắt Cột đã Mã hóa (One-Hot Encoding) ---\")\n",
    "display(df_final.filter(regex='Noi_that|Phap_ly').head())\n",
    "print(f\"Tổng số cột sau khi mã hóa đã giảm xuống còn: {df_final.shape[1]} cột.\")"
   ]
  },
  {
   "cell_type": "code",
   "execution_count": 28,
   "id": "a7f7f40c",
   "metadata": {},
   "outputs": [
    {
     "name": "stdout",
     "output_type": "stream",
     "text": [
      "\n",
      "✅ [HOÀN TẤT] Dữ liệu đã được chuẩn bị đầy đủ và sẵn sàng cho Mô hình Học máy.\n"
     ]
    }
   ],
   "source": [
    "# Lưu lại file đã được làm sạch và chuẩn hóa\n",
    "df_final.to_csv('bds_clean_scaled_encoded.csv', index=False, encoding='utf-8-sig')\n",
    "\n",
    "print(\"\\n✅ [HOÀN TẤT] Dữ liệu đã được chuẩn bị đầy đủ và sẵn sàng cho Mô hình Học máy.\")"
   ]
  }
 ],
 "metadata": {
  "kernelspec": {
   "display_name": "Python 3",
   "language": "python",
   "name": "python3"
  },
  "language_info": {
   "codemirror_mode": {
    "name": "ipython",
    "version": 3
   },
   "file_extension": ".py",
   "mimetype": "text/x-python",
   "name": "python",
   "nbconvert_exporter": "python",
   "pygments_lexer": "ipython3",
   "version": "3.12.5"
  }
 },
 "nbformat": 4,
 "nbformat_minor": 5
}
