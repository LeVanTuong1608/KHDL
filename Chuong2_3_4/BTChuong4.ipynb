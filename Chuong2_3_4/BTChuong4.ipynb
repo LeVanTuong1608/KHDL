{
 "cells": [
  {
   "cell_type": "code",
   "execution_count": 22,
   "id": "e18b054e",
   "metadata": {},
   "outputs": [],
   "source": [
    "import numpy as np\n",
    "import pandas as pd\n",
    "import re\n",
    "from sklearn.model_selection import train_test_split\n",
    "from sklearn.linear_model import LogisticRegression\n",
    "from sklearn.metrics import accuracy_score, classification_report\n"
   ]
  },
  {
   "cell_type": "code",
   "execution_count": 23,
   "id": "3d4f097d",
   "metadata": {},
   "outputs": [],
   "source": [
    "\n",
    "df_final = pd.read_csv('bds_clean_scaled_encoded.csv')  # đọc lại dữ liệu đã làm sẵn\n"
   ]
  },
  {
   "cell_type": "markdown",
   "id": "aba1e252",
   "metadata": {},
   "source": [
    "# ----------------------------------------------------------------------\n",
    "# 1. XÂY DỰNG BIẾN MỤC TIÊU (Y)\n",
    "# ----------------------------------------------------------------------\n"
   ]
  },
  {
   "cell_type": "code",
   "execution_count": 24,
   "id": "999adb5b",
   "metadata": {},
   "outputs": [
    {
     "name": "stdout",
     "output_type": "stream",
     "text": [
      "\n",
      "Phân phối classes:\n",
      "High_Value\n",
      "0    1269\n",
      "1     747\n",
      "Name: count, dtype: int64\n",
      "Tỷ lệ class 1: 37.05%\n"
     ]
    }
   ],
   "source": [
    "\n",
    "\n",
    "# Kiểm tra cột Gia_VND\n",
    "if 'Gia_VND' not in df_final.columns:\n",
    "    raise ValueError(\"ERROR: Không tìm thấy cột 'Gia_VND' trong df_final!\")\n",
    "\n",
    "# Tạo biến mục tiêu nhị phân 'High_Value' (1 nếu giá > median, 0 nếu giá <= median)\n",
    "median_scaled_price = df_final['Gia_VND'].median() \n",
    "df_final['High_Value'] = (df_final['Gia_VND'] > median_scaled_price).astype(int)\n",
    "\n",
    "# Kiểm tra phân phối classes\n",
    "value_counts = df_final['High_Value'].value_counts()\n",
    "print(\"\\nPhân phối classes:\")\n",
    "print(value_counts)\n",
    "print(f\"Tỷ lệ class 1: {(value_counts[1] / len(df_final)):.2%}\")\n"
   ]
  },
  {
   "cell_type": "code",
   "execution_count": 25,
   "id": "f8630318",
   "metadata": {},
   "outputs": [
    {
     "name": "stdout",
     "output_type": "stream",
     "text": [
      "\n",
      "Kích thước DataFrame X (Đặc trưng): (2016, 8)\n",
      "Kích thước Series Y (Mục tiêu): (2016,)\n"
     ]
    }
   ],
   "source": [
    "\n",
    "# Loại bỏ cột Gia_VND và các cột thô không cần thiết\n",
    "cols_to_drop = ['Gia_VND', 'Link', 'Ngày đăng', 'Loại hình căn hộ'] \n",
    "X = df_final.drop(columns=[col for col in cols_to_drop if col in df_final.columns] + ['High_Value'])\n",
    "Y = df_final['High_Value']\n",
    "\n",
    "print(f\"\\nKích thước DataFrame X (Đặc trưng): {X.shape}\")\n",
    "print(f\"Kích thước Series Y (Mục tiêu): {Y.shape}\")\n"
   ]
  },
  {
   "cell_type": "markdown",
   "id": "8bda978c",
   "metadata": {},
   "source": [
    "\n",
    "# ----------------------------------------------------------------------\n",
    "# 2. CHIA DỮ LIỆU VÀ HUẤN LUYỆN MÔ HÌNH\n",
    "# ----------------------------------------------------------------------\n"
   ]
  },
  {
   "cell_type": "code",
   "execution_count": 26,
   "id": "b8223de7",
   "metadata": {},
   "outputs": [
    {
     "name": "stdout",
     "output_type": "stream",
     "text": [
      "\n",
      "Phân phối classes trong tập train:\n",
      "High_Value\n",
      "0    0.629653\n",
      "1    0.370347\n",
      "Name: proportion, dtype: float64\n",
      "\n",
      "Phân phối classes trong tập test:\n",
      "High_Value\n",
      "0    0.628713\n",
      "1    0.371287\n",
      "Name: proportion, dtype: float64\n"
     ]
    }
   ],
   "source": [
    "\n",
    "# Kiểm tra điều kiện cho stratify\n",
    "if len(Y.unique()) < 2:\n",
    "    print(\"⚠️ Cảnh báo: Y chỉ có 1 class, không thể dùng stratify!\")\n",
    "    stratify = None\n",
    "else:\n",
    "    class_counts = Y.value_counts()\n",
    "    if any(class_counts < 2):\n",
    "        print(\"⚠️ Cảnh báo: Có class chỉ có 1 mẫu, không thể dùng stratify!\")\n",
    "        stratify = None\n",
    "    else:\n",
    "        stratify = Y\n",
    "\n",
    "# Chia dữ liệu train/test\n",
    "X_train, X_test, Y_train, Y_test = train_test_split(\n",
    "    X, Y, test_size=0.2, random_state=42, stratify=stratify\n",
    ")\n",
    "\n",
    "print(\"\\nPhân phối classes trong tập train:\")\n",
    "print(pd.Series(Y_train).value_counts(normalize=True))\n",
    "print(\"\\nPhân phối classes trong tập test:\")\n",
    "print(pd.Series(Y_test).value_counts(normalize=True))\n"
   ]
  },
  {
   "cell_type": "code",
   "execution_count": 27,
   "id": "069bf329",
   "metadata": {},
   "outputs": [
    {
     "name": "stdout",
     "output_type": "stream",
     "text": [
      "\n",
      "--- Huấn luyện Mô hình Logistic Regression HOÀN TẤT ---\n",
      "Kích thước tập huấn luyện: 1612 mẫu\n",
      "Kích thước test : (404,)\n"
     ]
    }
   ],
   "source": [
    "\n",
    "# Khởi tạo và huấn luyện mô hình\n",
    "model = LogisticRegression(random_state=42, solver='liblinear')\n",
    "model.fit(X_train, Y_train)\n",
    "\n",
    "print(\"\\n--- Huấn luyện Mô hình Logistic Regression HOÀN TẤT ---\")\n",
    "print(f\"Kích thước tập huấn luyện: {X_train.shape[0]} mẫu\")\n",
    "print(f\"Kích thước test : {Y_test.shape}\")\n"
   ]
  },
  {
   "cell_type": "markdown",
   "id": "cc7eb874",
   "metadata": {},
   "source": [
    "\n",
    "# ----------------------------------------------------------------------\n",
    "# 3. ĐÁNH GIÁ HIỆU SUẤT MÔ HÌNH\n",
    "# ----------------------------------------------------------------------\n"
   ]
  },
  {
   "cell_type": "code",
   "execution_count": 28,
   "id": "7f72eb9b",
   "metadata": {},
   "outputs": [
    {
     "name": "stdout",
     "output_type": "stream",
     "text": [
      "\n",
      "Độ chính xác (Accuracy) trên tập kiểm tra: 0.7079\n",
      "\n",
      "Báo cáo phân loại chi tiết (Classification Report):\n",
      "              precision    recall  f1-score   support\n",
      "\n",
      "Giá Thấp (0)       0.72      0.89      0.79       254\n",
      " Giá Cao (1)       0.68      0.41      0.51       150\n",
      "\n",
      "    accuracy                           0.71       404\n",
      "   macro avg       0.70      0.65      0.65       404\n",
      "weighted avg       0.70      0.71      0.69       404\n",
      "\n"
     ]
    }
   ],
   "source": [
    "\n",
    "Y_pred = model.predict(X_test)\n",
    "accuracy = accuracy_score(Y_test, Y_pred)\n",
    "report = classification_report(Y_test, Y_pred, target_names=['Giá Thấp (0)', 'Giá Cao (1)'])\n",
    "\n",
    "print(f\"\\nĐộ chính xác (Accuracy) trên tập kiểm tra: {accuracy:.4f}\")\n",
    "print(\"\\nBáo cáo phân loại chi tiết (Classification Report):\")\n",
    "print(report)\n"
   ]
  },
  {
   "cell_type": "code",
   "execution_count": 29,
   "id": "bba599d2",
   "metadata": {},
   "outputs": [
    {
     "name": "stdout",
     "output_type": "stream",
     "text": [
      "\n",
      "Top 10 đặc trưng quan trọng nhất:\n",
      "                      Feature  Importance\n",
      "2  Diện tích (m²) đã làm sạch    1.911970\n",
      "1        Số phòng tắm/vệ sinh    1.572390\n",
      "0                Số phòng ngủ    1.441620\n",
      "5     Noi_that_Day du/Cao cap    1.009093\n",
      "7       Phap_ly_So do/So hong    0.735401\n",
      "6        Phap_ly_Khac/Chua co    0.731368\n",
      "4             Noi_that_Co ban    0.574418\n",
      "3            Noi_that_Chua ro    0.222065\n"
     ]
    }
   ],
   "source": [
    "\n",
    "# Hiển thị feature importance\n",
    "feature_importance = pd.DataFrame({\n",
    "    'Feature': X.columns,\n",
    "    'Importance': abs(model.coef_[0])\n",
    "})\n",
    "print(\"\\nTop 10 đặc trưng quan trọng nhất:\")\n",
    "print(feature_importance.sort_values('Importance', ascending=False).head(10))"
   ]
  }
 ],
 "metadata": {
  "kernelspec": {
   "display_name": "Python 3",
   "language": "python",
   "name": "python3"
  },
  "language_info": {
   "codemirror_mode": {
    "name": "ipython",
    "version": 3
   },
   "file_extension": ".py",
   "mimetype": "text/x-python",
   "name": "python",
   "nbconvert_exporter": "python",
   "pygments_lexer": "ipython3",
   "version": "3.12.5"
  }
 },
 "nbformat": 4,
 "nbformat_minor": 5
}
